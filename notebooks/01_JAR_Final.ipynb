{
 "cells": [
  {
   "attachments": {},
   "cell_type": "markdown",
   "metadata": {},
   "source": [
    "Home <a name='home_bookmark' />   "
   ]
  },
  {
   "attachments": {},
   "cell_type": "markdown",
   "metadata": {},
   "source": [
    "# <center> Freq data analysis </center>"
   ]
  },
  {
   "attachments": {},
   "cell_type": "markdown",
   "metadata": {},
   "source": [
    "\n",
    "\n",
    "\n",
    "\n",
    "<center><img src=\"/Users/jasonroche/Workspace/Python/Freq/reports/figures/Hertz_garage.jpg\"/></center>\n",
    "\n",
    "\n"
   ]
  },
  {
   "attachments": {},
   "cell_type": "markdown",
   "metadata": {},
   "source": [
    "### <center>Jason Roche</center>\n",
    "\n",
    "<center>16th May 2023</center>\n",
    "\n",
    "<br> </br>\n",
    "<br> </br>\n",
    "<br> </br>"
   ]
  },
  {
   "attachments": {},
   "cell_type": "markdown",
   "metadata": {},
   "source": [
    "## <center> Table of contents </center>\n",
    "\n",
    "\n",
    "1. ### <a href=#Overview>Overview</a> \n",
    "\n",
    "2. ### <a href=#Introduction>Introduction</a> \n",
    "\n",
    "3. ### <a href=#Thedata>The data</a> "
   ]
  },
  {
   "attachments": {},
   "cell_type": "markdown",
   "metadata": {},
   "source": []
  },
  {
   "attachments": {},
   "cell_type": "markdown",
   "metadata": {},
   "source": [
    "<a name='Overview' />\n",
    "\n",
    "<a href=#home_bookmark>Table of Contents</a>\n",
    "\n",
    "\n",
    "\n",
    "### Overview  \n",
    "\n",
    "The US healthcare landscape is a complex one which evolves like most other economic landscape where human behaviour can be seen as a relationshipe between ends and scarece means which have alternative uses. Drug prices are an important and challenging dimension to healthcare as prices vary and the inclusion of drug reimbursement in healthcare plans and the resultant opacity in the drug cost history ( as the drug makes it way from manufacturer to wholesaler to pharmacy to patient). The National Average Drug Acquisition Cost (NADAC) for Medicaid Covered Outpatient Drugs is an interesting source of drug pricing from which to undertake an analysis of drug prices in the hope ot gaining insights.     \n",
    "\n",
    "\n"
   ]
  },
  {
   "attachments": {},
   "cell_type": "markdown",
   "metadata": {},
   "source": [
    "<a name='Introduction' />\n",
    "\n",
    "<a href=#home_bookmark>Table of Contents</a>\n",
    "\n",
    "\n",
    "\n",
    "### Introduction  \n",
    "\n",
    "This work seeks to undertake an analysis of the NADAC drug price data in order to build a predicitve model for forcasting drug prices. \n",
    "\n",
    "\n"
   ]
  },
  {
   "cell_type": "code",
   "execution_count": null,
   "metadata": {},
   "outputs": [],
   "source": []
  },
  {
   "attachments": {},
   "cell_type": "markdown",
   "metadata": {},
   "source": []
  }
 ],
 "metadata": {
  "language_info": {
   "name": "python"
  },
  "orig_nbformat": 4
 },
 "nbformat": 4,
 "nbformat_minor": 2
}
